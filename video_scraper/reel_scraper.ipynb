{
 "cells": [
  {
   "cell_type": "code",
   "execution_count": 1,
   "metadata": {},
   "outputs": [
    {
     "name": "stderr",
     "output_type": "stream",
     "text": [
      "/Users/jdl/Library/Python/3.9/lib/python/site-packages/urllib3/__init__.py:35: NotOpenSSLWarning: urllib3 v2 only supports OpenSSL 1.1.1+, currently the 'ssl' module is compiled with 'LibreSSL 2.8.3'. See: https://github.com/urllib3/urllib3/issues/3020\n",
      "  warnings.warn(\n"
     ]
    }
   ],
   "source": [
    "# Import selenium dependencies\n",
    "from selenium import webdriver\n",
    "from selenium.webdriver.common.keys import Keys\n",
    "from selenium.webdriver.support import expected_conditions as EC\n",
    "from selenium.webdriver.common.by import By \n",
    "from selenium.webdriver.support.wait import WebDriverWait\n",
    "from selenium.webdriver.chrome.options import Options\n",
    "from selenium.common.exceptions import NoSuchElementException, TimeoutException\n"
   ]
  },
  {
   "cell_type": "code",
   "execution_count": 2,
   "metadata": {},
   "outputs": [],
   "source": [
    "# Import other dependencies\n",
    "import time\n",
    "import requests\n",
    "from bs4 import BeautifulSoup\n",
    "import re\n",
    "import config\n",
    "import json\n",
    "import os\n",
    "from urllib.parse import urlparse\n",
    "import csv\n",
    "from dotenv import load_dotenv\n",
    "import random"
   ]
  },
  {
   "cell_type": "code",
   "execution_count": 3,
   "metadata": {},
   "outputs": [],
   "source": [
    "video_counter = 254"
   ]
  },
  {
   "cell_type": "code",
   "execution_count": 19,
   "metadata": {},
   "outputs": [],
   "source": [
    "# setup chromedriver\n",
    "driver = webdriver.Chrome()\n",
    "\n",
    "# open the webpage\n",
    "driver.get(\"https://www.instagram.com\")"
   ]
  },
  {
   "cell_type": "code",
   "execution_count": 20,
   "metadata": {},
   "outputs": [],
   "source": [
    "load_dotenv()\n",
    "username_value = os.getenv(\"USERNAME\")\n",
    "password_value = os.getenv(\"PASSWORD\")\n",
    "# target username\n",
    "username = WebDriverWait(driver, 10).until(EC.element_to_be_clickable((By.CSS_SELECTOR, \"input[name='username']\")))\n",
    "password = WebDriverWait(driver, 10).until(EC.element_to_be_clickable((By.CSS_SELECTOR, \"input[name='password']\")))\n",
    "\n",
    "# enter username and password\n",
    "username.clear()\n",
    "username.send_keys(username_value)\n",
    "password.clear()\n",
    "password.send_keys(password_value)\n",
    "\n",
    "# target the login button and click it\n",
    "button = WebDriverWait(driver, 2).until(EC.element_to_be_clickable((By.CSS_SELECTOR, \"button[type='submit']\"))).click()"
   ]
  },
  {
   "cell_type": "code",
   "execution_count": 42,
   "metadata": {},
   "outputs": [],
   "source": [
    "# Ensure the website URL is set to Instagram's homepage\n",
    "if driver.current_url != f\"https://www.instagram.com/{username_value}/\":\n",
    "    driver.get(f\"https://www.instagram.com/{username_value}/\")\n",
    "\n",
    "# Wait up to 10 seconds for the search button to be clickable\n",
    "search_button = WebDriverWait(driver, 10).until(\n",
    "    EC.element_to_be_clickable((By.CSS_SELECTOR, 'svg[aria-label=\"Search\"]'))\n",
    ")\n",
    "\n",
    "# Click the search button once it becomes clickable\n",
    "time.sleep(0.5)\n",
    "search_button.click()\n",
    "time.sleep(0.5)"
   ]
  },
  {
   "cell_type": "code",
   "execution_count": 43,
   "metadata": {},
   "outputs": [],
   "source": [
    "# target the search input field\n",
    "searchbox = WebDriverWait(driver, 10).until(EC.element_to_be_clickable((By.XPATH, \"//input[@placeholder='Search']\")))\n",
    "searchbox.clear()\n",
    "# search for the @handle or keyword\n",
    "keyword = '@apple' #define the account we're looking for\n",
    "searchbox.send_keys(keyword)\n",
    "time.sleep(1)"
   ]
  },
  {
   "cell_type": "code",
   "execution_count": 44,
   "metadata": {},
   "outputs": [],
   "source": [
    "# Check if the keyword starts with \"@\"\n",
    "if keyword.startswith(\"@\"):\n",
    "    keyword = keyword[1:]  # Remove @ symbol\n",
    "\n",
    "# Wait for the search results to load\n",
    "first_result = WebDriverWait(driver, 10).until(\n",
    "    EC.presence_of_element_located((By.XPATH, f'//span[text()=\"{keyword}\"]'))\n",
    ")\n",
    "\n",
    "# Wait until the result becomes clickable\n",
    "first_result = WebDriverWait(driver, 10).until(\n",
    "    EC.element_to_be_clickable((By.XPATH, f'//span[text()=\"{keyword}\"]'))\n",
    ")\n",
    "\n",
    "# Click the found element\n",
    "first_result.click()\n",
    "time.sleep(1.5)"
   ]
  },
  {
   "cell_type": "code",
   "execution_count": 45,
   "metadata": {},
   "outputs": [
    {
     "name": "stdout",
     "output_type": "stream",
     "text": [
      "Collected 10 unique reels.\n"
     ]
    }
   ],
   "source": [
    "# Get the initial page height\n",
    "initial_height = driver.execute_script(\"return document.body.scrollHeight\")\n",
    "reel_urls = set()\n",
    "\n",
    "while True:\n",
    "    # Parse URLs of only reels\n",
    "    anchors = driver.find_elements(By.TAG_NAME, \"a\")\n",
    "    \n",
    "    for anchor in anchors:\n",
    "        href = anchor.get_attribute(\"href\")\n",
    "        if href and \"/reel/\" in href:\n",
    "            reel_urls.add(href)\n",
    "        \n",
    "        # Stop collecting once we have 10 reels\n",
    "        if len(reel_urls) >= 10:\n",
    "            break  \n",
    "\n",
    "    # Stop scrolling if we have reached 10 reels\n",
    "    if len(reel_urls) >= 10:\n",
    "        break  \n",
    "\n",
    "    # Scroll down and check if more content loads\n",
    "    driver.execute_script(\"window.scrollTo(0, document.body.scrollHeight);\")\n",
    "    WebDriverWait(driver, 10).until(\n",
    "        lambda d: d.execute_script(\"return document.body.scrollHeight\") > initial_height\n",
    "    )\n",
    "\n",
    "    # Update height after new content loads\n",
    "    initial_height = driver.execute_script(\"return document.body.scrollHeight\")\n",
    "\n",
    "print(f\"Collected {len(reel_urls)} unique reels.\")"
   ]
  },
  {
   "cell_type": "code",
   "execution_count": 46,
   "metadata": {},
   "outputs": [
    {
     "name": "stdout",
     "output_type": "stream",
     "text": [
      "10\n"
     ]
    }
   ],
   "source": [
    "print(len(reel_urls))"
   ]
  },
  {
   "cell_type": "code",
   "execution_count": 47,
   "metadata": {},
   "outputs": [],
   "source": [
    "# Create a directory called \"videos\" to save reels\n",
    "video_dir = \"ads\"\n",
    "os.makedirs(video_dir, exist_ok=True)\n",
    "\n",
    "# Download videos\n",
    "query_parameters = \"__a=1&__d=dis\"\n",
    "json_list = []\n",
    "\n",
    "for url in reel_urls:\n",
    "    try:\n",
    "        modified_url = url + \"?\" + query_parameters\n",
    "        driver.get(modified_url)\n",
    "        time.sleep(random.uniform(2, 5))\n",
    "\n",
    "        # Extract JSON data\n",
    "        WebDriverWait(driver, 10).until(\n",
    "            EC.presence_of_element_located((By.XPATH, '//pre'))\n",
    "        )\n",
    "        json_script = driver.find_element(By.XPATH, '//pre').text\n",
    "        json_parsed = json.loads(json_script)\n",
    "\n",
    "        # Extract video URL\n",
    "        item = json_parsed.get('items', [])[0]\n",
    "        video_versions = item.get('video_versions', [])\n",
    "        if video_versions:\n",
    "            video_url = video_versions[0].get('url')\n",
    "            json_list.append(video_url)\n",
    "\n",
    "    except (NoSuchElementException, TimeoutException, json.JSONDecodeError) as e:\n",
    "        print(f\"Error processing reel {url}: {e}\")"
   ]
  },
  {
   "cell_type": "code",
   "execution_count": 48,
   "metadata": {},
   "outputs": [
    {
     "name": "stdout",
     "output_type": "stream",
     "text": [
      "Downloaded: ads/ad-294.mp4\n",
      "Downloaded: ads/ad-295.mp4\n",
      "Downloaded: ads/ad-296.mp4\n",
      "Downloaded: ads/ad-297.mp4\n",
      "Downloaded: ads/ad-298.mp4\n",
      "Downloaded: ads/ad-299.mp4\n",
      "Downloaded: ads/ad-300.mp4\n",
      "Downloaded: ads/ad-301.mp4\n",
      "Downloaded: ads/ad-302.mp4\n",
      "Downloaded: ads/ad-303.mp4\n",
      "Downloaded 10 reels to ads\n"
     ]
    }
   ],
   "source": [
    "# Download each reel video\n",
    "for url in json_list:\n",
    "    time.sleep(random.uniform(2, 5))\n",
    "    response = requests.get(url, stream=True)\n",
    "    if response.status_code == 200:\n",
    "        file_name = f\"ad-{video_counter}.mp4\"\n",
    "        file_path = os.path.join(video_dir, file_name)\n",
    "        with open(file_path, 'wb') as file:\n",
    "            for chunk in response.iter_content(chunk_size=8192):\n",
    "                file.write(chunk)\n",
    "        print(f\"Downloaded: {file_path}\")\n",
    "        video_counter += 1\n",
    "    else:\n",
    "        print(f\"Failed to download: {url}\")\n",
    "\n",
    "print(f\"Downloaded {len(json_list)} reels to {video_dir}\")"
   ]
  },
  {
   "cell_type": "code",
   "execution_count": null,
   "metadata": {},
   "outputs": [],
   "source": []
  }
 ],
 "metadata": {
  "kernelspec": {
   "display_name": "Python 3",
   "language": "python",
   "name": "python3"
  },
  "language_info": {
   "codemirror_mode": {
    "name": "ipython",
    "version": 3
   },
   "file_extension": ".py",
   "mimetype": "text/x-python",
   "name": "python",
   "nbconvert_exporter": "python",
   "pygments_lexer": "ipython3",
   "version": "3.9.6"
  }
 },
 "nbformat": 4,
 "nbformat_minor": 2
}
